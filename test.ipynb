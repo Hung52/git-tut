{
 "cells": [
  {
   "cell_type": "code",
   "execution_count": 13,
   "metadata": {},
   "outputs": [
    {
     "name": "stdout",
     "output_type": "stream",
     "text": [
      "(1, 'admin', 'logentry')\n",
      "(2, 'auth', 'permission')\n",
      "(3, 'auth', 'group')\n",
      "(4, 'auth', 'user')\n",
      "(5, 'contenttypes', 'contenttype')\n",
      "(6, 'sessions', 'session')\n"
     ]
    }
   ],
   "source": [
    "from sqlalchemy import create_engine, text\n",
    "\n",
    "\n",
    "# Tạo engine kết nối đến file db.sqlite3\n",
    "engine = create_engine('sqlite:///C:/Users/vanhu/Desktop/Onto_LSTV/NguyenNgocThin20185408/Code/lasotuvi_django/db.sqlite3')\n",
    "\n",
    "# Sử dụng engine để thực hiện truy vấn\n",
    "with engine.connect() as connection:\n",
    "    result = connection.execute(text(\"SELECT * FROM django_content_type\"))  # Sử dụng text() ở đây\n",
    "    for row in result:\n",
    "        print(row)\n"
   ]
  },
  {
   "cell_type": "code",
   "execution_count": 4,
   "metadata": {},
   "outputs": [
    {
     "name": "stdout",
     "output_type": "stream",
     "text": [
      "Man City vs Atletico Madrid\n",
      "Real vs Arsenal\n",
      "Bayern vs Dortmund\n",
      "Barca vs PSG\n"
     ]
    }
   ],
   "source": [
    "import random\n",
    "\n",
    "# Danh sách các đội bóng\n",
    "teams = [\"Bayern\", \"Barca\", \"Arsenal\", \"Real\", \"Dortmund\", \"PSG\", \"Man City\", \"Atletico Madrid\"]\n",
    "\n",
    "# Xáo trộn danh sách để ngẫu nhiên hóa thứ tự của các đội\n",
    "random.shuffle(teams)\n",
    "\n",
    "# Tạo các cặp ngẫu nhiên\n",
    "pairs = [(teams[i], teams[i+1]) for i in range(0, len(teams), 2)]\n",
    "\n",
    "# In ra các cặp\n",
    "for pair in pairs:\n",
    "    print(f\"{pair[0]} vs {pair[1]}\")\n"
   ]
  }
 ],
 "metadata": {
  "kernelspec": {
   "display_name": "base",
   "language": "python",
   "name": "python3"
  },
  "language_info": {
   "codemirror_mode": {
    "name": "ipython",
    "version": 3
   },
   "file_extension": ".py",
   "mimetype": "text/x-python",
   "name": "python",
   "nbconvert_exporter": "python",
   "pygments_lexer": "ipython3",
   "version": "3.11.7"
  }
 },
 "nbformat": 4,
 "nbformat_minor": 2
}
